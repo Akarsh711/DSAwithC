{
 "cells": [
  {
   "cell_type": "code",
   "execution_count": 1,
   "id": "05047891",
   "metadata": {},
   "outputs": [],
   "source": [
    "from bs4 import BeautifulSoup\n",
    "import requests"
   ]
  },
  {
   "cell_type": "code",
   "execution_count": 2,
   "id": "91951910",
   "metadata": {},
   "outputs": [],
   "source": [
    "URL = \"https://codeforces.com/top\"\n",
    "r = requests.get(URL)"
   ]
  },
  {
   "cell_type": "code",
   "execution_count": 61,
   "id": "afd3b422",
   "metadata": {},
   "outputs": [
    {
     "name": "stdout",
     "output_type": "stream",
     "text": [
      "\n",
      "             \n",
      "             \n",
      "        → Pay attention\n",
      "            \n",
      "            \n",
      "        \n",
      "\n",
      "        \n",
      "            Before contestCodeforces Round #744 (Div. 3)4 days\n",
      "        \n",
      "        \n",
      "            \n",
      "                \n",
      "\n",
      "        \n",
      "        \n",
      "        \n",
      "\n",
      "        \n",
      "\n",
      "\n",
      "        \n",
      "\n",
      "    \n"
     ]
    }
   ],
   "source": [
    "soup = BeautifulSoup(r.content, 'html5lib')\n",
    "x = soup.find_all('script')\n",
    "for i in x:\n",
    "    i.decompose()\n",
    "    \n",
    "divs = soup.find('div',  {\"class\": \"roundbox sidebox\"})\n",
    "\n",
    "print(divs.text)"
   ]
  },
  {
   "cell_type": "code",
   "execution_count": null,
   "id": "8328d461",
   "metadata": {},
   "outputs": [],
   "source": []
  }
 ],
 "metadata": {
  "kernelspec": {
   "display_name": "Python 3 (ipykernel)",
   "language": "python",
   "name": "python3"
  },
  "language_info": {
   "codemirror_mode": {
    "name": "ipython",
    "version": 3
   },
   "file_extension": ".py",
   "mimetype": "text/x-python",
   "name": "python",
   "nbconvert_exporter": "python",
   "pygments_lexer": "ipython3",
   "version": "3.9.7"
  }
 },
 "nbformat": 4,
 "nbformat_minor": 5
}
